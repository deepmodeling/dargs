{
 "cells": [
  {
   "cell_type": "markdown",
   "metadata": {},
   "source": [
    "# Use with Jupyter Notebook\n",
    "\n",
    "In a [Jupyter Notebook](https://jupyter.org/), with {meth}`dargs.notebook.JSON`, one can render an JSON string with an Argument."
   ]
  },
  {
   "cell_type": "code",
   "execution_count": null,
   "metadata": {},
   "outputs": [],
   "source": [
    "from dargs.sphinx import _test_argument\n",
    "from dargs.notebook import JSON\n",
    "\n",
    "jstr = \"\"\"\n",
    "{\n",
    "    \"test_argument\": \"test1\",\n",
    "    \"test_variant\": \"test_variant_argument\",\n",
    "    \"test_repeat\": [\n",
    "        {\"test_repeat_item\": false},\n",
    "        {\"test_repeat_item\": true}\n",
    "    ],\n",
    "    \"_comment\": \"This is an example data\"\n",
    "}\n",
    "\"\"\"\n",
    "JSON(jstr, _test_argument())"
   ]
  },
  {
   "cell_type": "markdown",
   "metadata": {},
   "source": [
    "When the monse stays on an argument key, the documentation of this argument will pop up."
   ]
  }
 ],
 "metadata": {
  "language_info": {
   "name": "python"
  }
 },
 "nbformat": 4,
 "nbformat_minor": 2
}
